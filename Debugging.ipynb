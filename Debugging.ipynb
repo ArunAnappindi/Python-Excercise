{
  "cells": [
    {
      "cell_type": "markdown",
      "metadata": {
        "id": "view-in-github",
        "colab_type": "text"
      },
      "source": [
        "<a href=\"https://colab.research.google.com/github/ArunAnappindi/Python-Excercise/blob/main/Debugging.ipynb\" target=\"_parent\"><img src=\"https://colab.research.google.com/assets/colab-badge.svg\" alt=\"Open In Colab\"/></a>"
      ]
    },
    {
      "cell_type": "markdown",
      "metadata": {
        "id": "NFXBIkY7q9qs"
      },
      "source": [
        "# Debugging\n",
        "\n",
        "It is very common to make mistakes while programming in any language.  Fortunately, python is able to recognize lots of types of mistakes and tell us what the problem is.  The process of identifying and fixing errors, or *bugs*, in your code is called *debugging*.  It is very important to learn to debug your code, no matter how much experience you have programming you will inevitably make a mistake, you must learn to efficiently identify and fix your mistakes.\n",
        "\n",
        "Let's go through a few examples\n",
        "\n",
        "1. Run some code that doesn't work\n",
        "2. Look at python's output from our mistakes\n",
        "3. Identify the problem\n",
        "4. Fix the problem"
      ]
    },
    {
      "cell_type": "code",
      "execution_count": 2,
      "metadata": {
        "id": "YChg9dteq9qw"
      },
      "outputs": [],
      "source": [
        "my_dict = {\"var1\": 2, \"var2\": 16}"
      ]
    },
    {
      "cell_type": "code",
      "execution_count": 8,
      "metadata": {
        "colab": {
          "base_uri": "https://localhost:8080/"
        },
        "id": "iQ-f5DWWq9qy",
        "outputId": "98b44852-4517-4d53-cac2-bbd46ccf507f"
      },
      "outputs": [
        {
          "output_type": "stream",
          "name": "stdout",
          "text": [
            "0\n",
            "1\n",
            "2\n",
            "3\n",
            "4\n",
            "5\n"
          ]
        }
      ],
      "source": [
        "for i in range(6):\n",
        "    print(i)"
      ]
    },
    {
      "cell_type": "code",
      "execution_count": 10,
      "metadata": {
        "colab": {
          "base_uri": "https://localhost:8080/"
        },
        "id": "6AHAutlfq9qz",
        "outputId": "f471008a-0fdc-43c0-d320-a2d7ce743529"
      },
      "outputs": [
        {
          "output_type": "stream",
          "name": "stdout",
          "text": [
            "1\n",
            "2\n",
            "3\n",
            "4\n",
            "5\n"
          ]
        }
      ],
      "source": [
        "array = [1,2,3,4,5]\n",
        "for j in array:\n",
        "    print(array[j-1])"
      ]
    },
    {
      "cell_type": "code",
      "execution_count": 11,
      "metadata": {
        "colab": {
          "base_uri": "https://localhost:8080/"
        },
        "id": "JgY0tedAq9qz",
        "outputId": "d0b552dc-a793-48a7-f7bc-f3a419e78560"
      },
      "outputs": [
        {
          "output_type": "stream",
          "name": "stdout",
          "text": [
            "false\n"
          ]
        }
      ],
      "source": [
        "if 5==4:\n",
        "    print('true')\n",
        "else:\n",
        "    print('false')\n",
        "\n"
      ]
    },
    {
      "cell_type": "code",
      "execution_count": 18,
      "metadata": {
        "colab": {
          "base_uri": "https://localhost:8080/"
        },
        "id": "eQ8wjfLZq9q0",
        "outputId": "dfba6a72-416b-42f6-95d3-1b6670f19898"
      },
      "outputs": [
        {
          "output_type": "stream",
          "name": "stdout",
          "text": [
            "attr2 is equal to 6\n",
            "attr1 is equal to 5\n"
          ]
        },
        {
          "output_type": "execute_result",
          "data": {
            "text/plain": [
              "5"
            ]
          },
          "metadata": {},
          "execution_count": 18
        }
      ],
      "source": [
        "class MyClass:\n",
        "    def __init__(self,attr1val,attr2val):\n",
        "        self.attr1 = attr1val\n",
        "        attr2 = attr2val\n",
        "        print('attr2 is equal to',attr2)\n",
        "\n",
        "myobj = MyClass(5,6)\n",
        "\n",
        "print('attr1 is equal to', myobj.attr1)\n",
        "myobj.attr1"
      ]
    },
    {
      "cell_type": "code",
      "execution_count": 20,
      "metadata": {
        "colab": {
          "base_uri": "https://localhost:8080/"
        },
        "id": "lWq_hR06q9q0",
        "outputId": "9f78a4bd-3f7d-48ad-917f-f33b9143bda3"
      },
      "outputs": [
        {
          "output_type": "execute_result",
          "data": {
            "text/plain": [
              "3.5"
            ]
          },
          "metadata": {},
          "execution_count": 20
        }
      ],
      "source": [
        "import numpy as np\n",
        "nparray = np.array([1,2,3,4,5,6])\n",
        "np.mean(nparray)"
      ]
    },
    {
      "cell_type": "code",
      "execution_count": null,
      "metadata": {
        "id": "EOVTRedcq9q1"
      },
      "outputs": [],
      "source": []
    }
  ],
  "metadata": {
    "kernelspec": {
      "display_name": "Python 3",
      "language": "python",
      "name": "python3"
    },
    "language_info": {
      "codemirror_mode": {
        "name": "ipython",
        "version": 3
      },
      "file_extension": ".py",
      "mimetype": "text/x-python",
      "name": "python",
      "nbconvert_exporter": "python",
      "pygments_lexer": "ipython3",
      "version": "3.7.3"
    },
    "colab": {
      "provenance": [],
      "include_colab_link": true
    }
  },
  "nbformat": 4,
  "nbformat_minor": 0
}