{
  "nbformat": 4,
  "nbformat_minor": 0,
  "metadata": {
    "colab": {
      "provenance": [],
      "authorship_tag": "ABX9TyOLZYgSzxrk4UhLLZEB5AKv",
      "include_colab_link": true
    },
    "kernelspec": {
      "name": "python3",
      "display_name": "Python 3"
    },
    "language_info": {
      "name": "python"
    }
  },
  "cells": [
    {
      "cell_type": "markdown",
      "metadata": {
        "id": "view-in-github",
        "colab_type": "text"
      },
      "source": [
        "<a href=\"https://colab.research.google.com/github/ArunAnappindi/Python-Excercise/blob/main/random_excercises.ipynb\" target=\"_parent\"><img src=\"https://colab.research.google.com/assets/colab-badge.svg\" alt=\"Open In Colab\"/></a>"
      ]
    },
    {
      "cell_type": "code",
      "execution_count": 1,
      "metadata": {
        "colab": {
          "base_uri": "https://localhost:8080/"
        },
        "id": "dZX3NrEjjv73",
        "outputId": "7c799fdd-a061-4bd2-cdd1-a833605f2d06"
      },
      "outputs": [
        {
          "output_type": "stream",
          "name": "stdout",
          "text": [
            "[2, 2, 2, 2]\n"
          ]
        }
      ],
      "source": [
        "repeated_list = [2] * 4\n",
        "print(repeated_list)"
      ]
    },
    {
      "cell_type": "code",
      "source": [
        "number = [1, 12, 24, 36, 11, 20,50]\n",
        "for i in number:\n",
        " sq = i * i\n",
        " print(sq)"
      ],
      "metadata": {
        "colab": {
          "base_uri": "https://localhost:8080/"
        },
        "id": "m7DC0lUeke4m",
        "outputId": "dd93ae75-3b29-412c-f69a-7205cf8d348d"
      },
      "execution_count": 4,
      "outputs": [
        {
          "output_type": "stream",
          "name": "stdout",
          "text": [
            "1\n",
            "144\n",
            "576\n",
            "1296\n",
            "121\n",
            "400\n",
            "2500\n"
          ]
        }
      ]
    },
    {
      "cell_type": "code",
      "source": [
        "color = ['white','red', 'blue', 'green','blue','yellow', 'black']\n",
        "print(color.remove('yellow'))\n",
        "print(color)"
      ],
      "metadata": {
        "colab": {
          "base_uri": "https://localhost:8080/"
        },
        "id": "QiTXmM1hlJto",
        "outputId": "446dab53-2448-49f6-dd87-a7390bcfb528"
      },
      "execution_count": 9,
      "outputs": [
        {
          "output_type": "stream",
          "name": "stdout",
          "text": [
            "None\n",
            "['white', 'red', 'blue', 'green', 'blue', 'black']\n"
          ]
        }
      ]
    },
    {
      "cell_type": "code",
      "source": [
        "car = { \"brand\" : \"Audi\",\"model\" : \"Q2\", \"year\" : 1980}\n",
        "car[\"year\"] = 2019\n",
        "print(car)"
      ],
      "metadata": {
        "colab": {
          "base_uri": "https://localhost:8080/"
        },
        "id": "1BEFAaOMlpkk",
        "outputId": "3e914db3-0c17-4ec6-ba7b-7661814cdac8"
      },
      "execution_count": 12,
      "outputs": [
        {
          "output_type": "stream",
          "name": "stdout",
          "text": [
            "{'brand': 'Audi', 'model': 'Q2', 'year': 2019}\n"
          ]
        }
      ]
    },
    {
      "cell_type": "code",
      "source": [
        "a = 56\n",
        "if a == 10:\n",
        " print(\"Hello\")\n",
        "else:\n",
        " print(\"Good Bye\")"
      ],
      "metadata": {
        "colab": {
          "base_uri": "https://localhost:8080/"
        },
        "id": "ZIfDnCAwmF_i",
        "outputId": "001c9eaf-5f5b-4761-da48-0d3d17f7ab6c"
      },
      "execution_count": 13,
      "outputs": [
        {
          "output_type": "stream",
          "name": "stdout",
          "text": [
            "Good Bye\n"
          ]
        }
      ]
    },
    {
      "cell_type": "code",
      "source": [
        "a = \"I am a Data Scientist\"\n",
        "if \"Data\" in a:\n",
        " print(\"It is present\")\n",
        "else:\n",
        " print(False)"
      ],
      "metadata": {
        "colab": {
          "base_uri": "https://localhost:8080/"
        },
        "id": "5tLFzwP3m2Qe",
        "outputId": "50e513de-dea9-441f-8da2-5dccc81e7ac4"
      },
      "execution_count": 14,
      "outputs": [
        {
          "output_type": "stream",
          "name": "stdout",
          "text": [
            "It is present\n"
          ]
        }
      ]
    },
    {
      "cell_type": "code",
      "source": [
        "first = 25\n",
        "second = 34\n",
        "third = 45\n",
        "if first >= second and first >= third:\n",
        " print(first)\n",
        "elif second >= first and second >= third:\n",
        " print(second)\n",
        "elif third >= first and third >= second:\n",
        " print(third)\n",
        "else:\n",
        " print(\"All of the values are equal\")"
      ],
      "metadata": {
        "colab": {
          "base_uri": "https://localhost:8080/"
        },
        "id": "qgwD039om8qm",
        "outputId": "d4a1b266-0c6d-4d22-ce07-98e795a103a4"
      },
      "execution_count": 16,
      "outputs": [
        {
          "output_type": "stream",
          "name": "stdout",
          "text": [
            "45\n"
          ]
        }
      ]
    },
    {
      "cell_type": "code",
      "source": [
        "for i in range(-10, 0, 1):\n",
        " print(i)"
      ],
      "metadata": {
        "colab": {
          "base_uri": "https://localhost:8080/"
        },
        "id": "t1ux4abtneNe",
        "outputId": "6f2e465b-c089-4864-cbe6-0cefe815004a"
      },
      "execution_count": 20,
      "outputs": [
        {
          "output_type": "stream",
          "name": "stdout",
          "text": [
            "-10\n",
            "-9\n",
            "-8\n",
            "-7\n",
            "-6\n",
            "-5\n",
            "-4\n",
            "-3\n",
            "-2\n",
            "-1\n"
          ]
        }
      ]
    },
    {
      "cell_type": "code",
      "source": [
        "n = 8\n",
        "for i in range(1, 11):\n",
        " print(\"{} ^ {} =\".format(n, i), n**i)"
      ],
      "metadata": {
        "colab": {
          "base_uri": "https://localhost:8080/"
        },
        "id": "_SpnHu1Bn2JK",
        "outputId": "7cd29f4b-b5f0-4e72-9cb2-d387dc87c451"
      },
      "execution_count": 21,
      "outputs": [
        {
          "output_type": "stream",
          "name": "stdout",
          "text": [
            "8 ^ 1 = 8\n",
            "8 ^ 2 = 64\n",
            "8 ^ 3 = 512\n",
            "8 ^ 4 = 4096\n",
            "8 ^ 5 = 32768\n",
            "8 ^ 6 = 262144\n",
            "8 ^ 7 = 2097152\n",
            "8 ^ 8 = 16777216\n",
            "8 ^ 9 = 134217728\n",
            "8 ^ 10 = 1073741824\n"
          ]
        }
      ]
    },
    {
      "cell_type": "code",
      "source": [
        "st = \"Data Science\"\n",
        "count = 0\n",
        "for i in st:\n",
        " if i == \"a\" or i == \"e\" or i == \"i\" or i == \"o\" or i == \"u\":\n",
        "     count = count + 1\n",
        "print(count)"
      ],
      "metadata": {
        "colab": {
          "base_uri": "https://localhost:8080/"
        },
        "id": "94wIFeWUoc_3",
        "outputId": "7e5c6953-705a-44e4-c2fa-329399842753"
      },
      "execution_count": 22,
      "outputs": [
        {
          "output_type": "stream",
          "name": "stdout",
          "text": [
            "5\n"
          ]
        }
      ]
    }
  ]
}